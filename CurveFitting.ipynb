{
  "nbformat": 4,
  "nbformat_minor": 0,
  "metadata": {
    "colab": {
      "name": "CurveFitting.ipynb",
      "provenance": [],
      "collapsed_sections": []
    },
    "kernelspec": {
      "name": "python3",
      "display_name": "Python 3"
    }
  },
  "cells": [
    {
      "cell_type": "markdown",
      "metadata": {
        "id": "aZC6Q02mfEC-"
      },
      "source": [
        "In this notebook, we will attempt **Polynomial Curve Fitting**. So, what is Polynomial Curve Fitting ? Basically, we will try to fit a polynomial function into some custom dataset and check the results. We will start by importing some of the required modules."
      ]
    },
    {
      "cell_type": "code",
      "metadata": {
        "id": "0fucR2b7fLxB"
      },
      "source": [
        "import numpy as np\r\n",
        "import matplotlib.pyplot as plt\r\n",
        "import math"
      ],
      "execution_count": null,
      "outputs": []
    },
    {
      "cell_type": "markdown",
      "metadata": {
        "id": "o4do60dLfebu"
      },
      "source": [
        "**DATASET CREATION**\r\n",
        "\r\n",
        "Firstly, we have to create a dataset on which we want to fit the polynomial. We have chosen the **sine** function as the basis of the dataset. Now, we want to create a dataset, which will be well approximated by the sine function. For that purpose, it makes sense to add some random noise to the values given by the sine function. This will make our dataset somewhat different from the sine function but the sine function will be able to approximate the dataset very well. \r\n",
        "\r\n",
        "Hence, we can consider the sine function to be the benchmark we want to attain with our polynomial.  "
      ]
    },
    {
      "cell_type": "code",
      "metadata": {
        "id": "lVhy8mw4fdca"
      },
      "source": [
        "def func(x):\r\n",
        "  return np.sin(x)"
      ],
      "execution_count": null,
      "outputs": []
    },
    {
      "cell_type": "code",
      "metadata": {
        "id": "0BEEU8zzgUiV"
      },
      "source": [
        "def create_dataset(n):\r\n",
        "  x = np.linspace(0,10,num=n)\r\n",
        "  y = func(x)+np.random.randn(n)*0.1\r\n",
        "  return x,y"
      ],
      "execution_count": null,
      "outputs": []
    },
    {
      "cell_type": "code",
      "metadata": {
        "colab": {
          "base_uri": "https://localhost:8080/",
          "height": 283
        },
        "id": "XkJMquhvguhH",
        "outputId": "f7d7ab7a-4538-4598-9806-6ed0ae2cd4f2"
      },
      "source": [
        "x,y = create_dataset(20)\r\n",
        "plt.scatter(x,y)"
      ],
      "execution_count": null,
      "outputs": [
        {
          "output_type": "execute_result",
          "data": {
            "text/plain": [
              "<matplotlib.collections.PathCollection at 0x7f3f7038a4a8>"
            ]
          },
          "metadata": {
            "tags": []
          },
          "execution_count": 4
        },
        {
          "output_type": "display_data",
          "data": {
            "image/png": "[encoded data removed]",
            "text/plain": [
              "<Figure size 432x288 with 1 Axes>"
            ]
          },
          "metadata": {
            "tags": [],
            "needs_background": "light"
          }
        }
      ]
    },
    {
      "cell_type": "markdown",
      "metadata": {
        "id": "v2iOg1U4gwr2"
      },
      "source": [
        "The above plot represent a scatter plot of the points of our dataset. The plot below is the same as above, only the sine function is plotted in green. So, we can see that the sine function generalizes the dataset quite well."
      ]
    },
    {
      "cell_type": "code",
      "metadata": {
        "colab": {
          "base_uri": "https://localhost:8080/",
          "height": 283
        },
        "id": "R4EV4MMGhYKT",
        "outputId": "7658bf7f-cabd-483a-8f65-2d0a493f3eed"
      },
      "source": [
        "a = np.linspace(0,10,num=70)\r\n",
        "plt.plot(a,np.sin(a),color='green')\r\n",
        "plt.scatter(x,y)"
      ],
      "execution_count": null,
      "outputs": [
        {
          "output_type": "execute_result",
          "data": {
            "text/plain": [
              "<matplotlib.collections.PathCollection at 0x7f3f70314e48>"
            ]
          },
          "metadata": {
            "tags": []
          },
          "execution_count": 5
        },
        {
          "output_type": "display_data",
          "data": {
            "image/png": "[encoded data removed]",
            "text/plain": [
              "<Figure size 432x288 with 1 Axes>"
            ]
          },
          "metadata": {
            "tags": [],
            "needs_background": "light"
          }
        }
      ]
    },
    {
      "cell_type": "markdown",
      "metadata": {
        "id": "mXEfRRPohv4l"
      },
      "source": [
        "---\r\n",
        "\r\n",
        "So, let us first define the problem. We want to fit the sine curve with a polynomial of degree n. The polynomial will be of the form - \r\n",
        "\r\n",
        "$$ y = w_0 x^0+w_1x^1+w_2x^2+\\dots+w_nx^n $$\r\n",
        "\r\n",
        "This can also be written as :\r\n",
        "\r\n",
        "$$ y = \\sum_{i=0}^{n} {w_ix^i}$$\r\n",
        "\r\n",
        "If we dive deeper into the Mathematics, we find that this can be represented as:\r\n",
        "\r\n",
        "$$ w =  \\begin {bmatrix}\r\n",
        "w_1 \\\\ \r\n",
        "w_2 \\\\\r\n",
        "w_3 \\\\\r\n",
        "\\vdots \\\\\r\n",
        "\r\n",
        "w_n\r\n",
        " \\end {bmatrix} \r\n",
        " \r\n",
        " x = \\begin {bmatrix}\r\n",
        "x \\\\ \r\n",
        "x^2 \\\\\r\n",
        "x^3 \\\\\r\n",
        "\\vdots \\\\\r\n",
        "\r\n",
        "x^n\r\n",
        " \\end {bmatrix}\r\n",
        " \r\n",
        " $$\r\n",
        "\r\n",
        "So, y can be written as\r\n",
        "\r\n",
        "$$ y = w^Tx   $$\r\n",
        "\r\n",
        "$$ y =   \\begin {bmatrix}\r\n",
        "w_1  \\   \r\n",
        "w_2   \\\r\n",
        "w_3   \\\r\n",
        "\\dots  \\ \r\n",
        "\r\n",
        "w_n \\\r\n",
        " \\end {bmatrix} \r\n",
        " \r\n",
        " \\begin {bmatrix}\r\n",
        "x \\\\ \r\n",
        "x^2 \\\\\r\n",
        "x^3 \\\\\r\n",
        "\\vdots \\\\\r\n",
        "\r\n",
        "x^n\r\n",
        " \\end {bmatrix}  + w_0$$\r\n",
        "\r\n",
        "We will apply the final equation, taking the values of w and powers of x to find an output.\r\n",
        "\r\n",
        "\r\n",
        "\r\n",
        "---"
      ]
    },
    {
      "cell_type": "markdown",
      "metadata": {
        "id": "Ml22Jyf9n7HO"
      },
      "source": [
        "\r\n",
        "\r\n",
        "Now that we have created the dataset, it makes sense for us to create a few helper functions. First we create a **predict function** . This function will take in the input value and the weights and give a prediction. "
      ]
    },
    {
      "cell_type": "code",
      "metadata": {
        "id": "dnz3m0hllAwy"
      },
      "source": [
        "def predict(x,w):\r\n",
        "  x_v = [x**i for i in range(len(w))]\r\n",
        "  return np.dot(x_v,w) "
      ],
      "execution_count": null,
      "outputs": []
    },
    {
      "cell_type": "markdown",
      "metadata": {
        "id": "bI8UxdIwkcBt"
      },
      "source": [
        "As we are trying to fit a curve based on a dataset, it becomes very important which **loss function** we choose. Here, I have trained the models for different loss functions and found that two functions optimize the problem very well:\r\n",
        "1. The Mean Squared Error function\r\n",
        "\r\n",
        "$$ Error(x,y,w) = Mean\\ (Predicted\\ value - Actual\\ Value )^2 $$\r\n",
        "2. The Total Absolute Error function\r\n",
        "\r\n",
        "$$ Error(x,y,w) = Sum\\ |Predicted\\ value - Actual\\ Value | $$"
      ]
    },
    {
      "cell_type": "code",
      "metadata": {
        "id": "HmjoxNa-pzDt"
      },
      "source": [
        "def loss(y,x,w):\r\n",
        "  yhat = [predict(x,w) for x in x]\r\n",
        "  l = sum((y-yhat)**2) / len(w)\r\n",
        "  return l,yhat"
      ],
      "execution_count": null,
      "outputs": []
    },
    {
      "cell_type": "code",
      "metadata": {
        "id": "ouq-bXqdXkok"
      },
      "source": [
        "def lossmod(y,x,w):\r\n",
        "  yhat = [predict(x,w) for x in x]\r\n",
        "  l = np.sum(np.abs((y-yhat)))\r\n",
        "  return l,yhat"
      ],
      "execution_count": null,
      "outputs": []
    },
    {
      "cell_type": "markdown",
      "metadata": {
        "id": "kdboLRoDnfBH"
      },
      "source": [
        "---\r\n",
        "Now that we have created the dataset and defined the loss functions, we can now move into optimization. We will use the **Gradient Descent Optimizer** here.\r\n",
        "\r\n",
        "<img src = \"/content/grad_desc.jpeg\" >"
      ]
    },
    {
      "cell_type": "markdown",
      "metadata": {
        "id": "G4EO9Q2bpMPq"
      },
      "source": [
        "As we are doing everything from scratch, I have also written the derivative calculator as **grad2** . It computes gradient based on:\r\n",
        "$$ \\frac {d f(a)}{dh} =   \\lim_{h\\to0} \\left[\\frac {f(a+h)-f(a)}{h} \\right]  $$\r\n",
        "\r\n",
        "It takes the loss function, weight vector, x, y values, the value h which is near 0 and finally val. Val is basically the index of the weight matrix, on the basis of which we want to calculate the derivative."
      ]
    },
    {
      "cell_type": "code",
      "metadata": {
        "id": "R0VFQyFRpLjt"
      },
      "source": [
        "def grad2(f,w,x,y,h,val):\r\n",
        "  b,yhat = f(y,x,w)\r\n",
        "  w[val]+=h\r\n",
        "  a,yhat = f(y,x,w)\r\n",
        "  g = (a-b)/h\r\n",
        "  return g,yhat"
      ],
      "execution_count": null,
      "outputs": []
    },
    {
      "cell_type": "markdown",
      "metadata": {
        "id": "6BcvU0hZnlZw"
      },
      "source": [
        "---\r\n",
        "\r\n",
        "**GRADIENT DESCENT BEGINS**"
      ]
    },
    {
      "cell_type": "code",
      "metadata": {
        "id": "Yxou3h5OFHhc"
      },
      "source": [
        "import time"
      ],
      "execution_count": null,
      "outputs": []
    },
    {
      "cell_type": "markdown",
      "metadata": {
        "id": "sH2ErdadpCEi"
      },
      "source": [
        "Initializing the weights matrix with 4 numbers, as we want to fit a 3degree polynomial."
      ]
    },
    {
      "cell_type": "code",
      "metadata": {
        "id": "nfRudgApxk5N",
        "colab": {
          "base_uri": "https://localhost:8080/"
        },
        "outputId": "692b1dbc-bacb-42cb-9d56-781eda49e782"
      },
      "source": [
        "t=time.time()\r\n",
        "w_vector = np.random.randn(4)\r\n",
        "print(w_vector)\r\n",
        "time.time()-t"
      ],
      "execution_count": null,
      "outputs": [
        {
          "output_type": "stream",
          "text": [
            "[ 0.50215617  0.1765335  -1.10172016 -0.08465456]\n"
          ],
          "name": "stdout"
        },
        {
          "output_type": "execute_result",
          "data": {
            "text/plain": [
              "0.0005688667297363281"
            ]
          },
          "metadata": {
            "tags": []
          },
          "execution_count": 11
        }
      ]
    },
    {
      "cell_type": "code",
      "metadata": {
        "colab": {
          "base_uri": "https://localhost:8080/"
        },
        "id": "9SBfCFxQWT-F",
        "outputId": "df282af4-5783-4f0a-8cd4-5357b19e83a7"
      },
      "source": [
        "x,y"
      ],
      "execution_count": null,
      "outputs": [
        {
          "output_type": "execute_result",
          "data": {
            "text/plain": [
              "(array([ 0.        ,  0.52631579,  1.05263158,  1.57894737,  2.10526316,\n",
              "         2.63157895,  3.15789474,  3.68421053,  4.21052632,  4.73684211,\n",
              "         5.26315789,  5.78947368,  6.31578947,  6.84210526,  7.36842105,\n",
              "         7.89473684,  8.42105263,  8.94736842,  9.47368421, 10.        ]),\n",
              " array([ 0.21023767,  0.54357394,  0.80731814,  0.94725855,  0.87181705,\n",
              "         0.67506378,  0.08018886, -0.51003242, -0.93578724, -1.05457796,\n",
              "        -1.06468548, -0.4671655 ,  0.04771788,  0.47681042,  0.82710866,\n",
              "         0.95449004,  0.89255291,  0.4418323 ,  0.06296955, -0.4736451 ]))"
            ]
          },
          "metadata": {
            "tags": []
          },
          "execution_count": 12
        }
      ]
    },
    {
      "cell_type": "markdown",
      "metadata": {
        "id": "PwQvwx4p0HAL"
      },
      "source": [
        "Hard coding gradient descent for 50,000 epochs "
      ]
    },
    {
      "cell_type": "code",
      "metadata": {
        "colab": {
          "base_uri": "https://localhost:8080/"
        },
        "id": "oWCvNZ-VqMsB",
        "outputId": "39d76866-ded2-4aa7-b358-5d9c0ece61dd"
      },
      "source": [
        "t=time.time()\r\n",
        "print(loss(y,x,w_vector))\r\n",
        "yhat = []\r\n",
        "lossf = []\r\n",
        "#finding gradient wrt w[0]\r\n",
        "for i in range(100000):\r\n",
        "  #g4,yhat = grad2(loss,w_vector,x,y,0.0000000001,4)\r\n",
        "  g3,yhat = grad2(loss,w_vector,x,y,0.0000000001,3)\r\n",
        "  g2,yhat = grad2(loss,w_vector,x,y,0.0000000001,2)\r\n",
        "  g1,yhat = grad2(loss,w_vector,x,y,0.0000000001,1)\r\n",
        "  g0,yhat = grad2(loss,w_vector,x,y,0.0000000001,0)\r\n",
        "  #for j in range(6):\r\n",
        "  #  w_vector[j]-=0.1\r\n",
        "  \r\n",
        "  #w_vector[4]-=1e-8*g4\r\n",
        "  #print(\"w[4] {}\".format(w_vector[4]))\r\n",
        "  w_vector[3]-=1e-6*g3\r\n",
        "  #print(\"w[3] {}\".format(w_vector[3]))\r\n",
        "  w_vector[2]-=1e-6*g2\r\n",
        "  #print(\"w[2] {}\".format(w_vector[2]))\r\n",
        "  w_vector[1]-=1e-6*g1\r\n",
        "  #print(\"w[1] {}\".format(w_vector[1]))\r\n",
        "  w_vector[0]-=1e-6*g0\r\n",
        "  #print(\"w[0] {}\".format(w_vector[0]))\r\n",
        "  #print(yhat)\r\n",
        "  l,_ = loss(y,x,w_vector)\r\n",
        "  lossf.append(l)\r\n",
        "  if(i%500 == 0):\r\n",
        "    print(\"Loss at epoch {} is {}\".format(i,l))\r\n",
        "\r\n",
        "time.time()-t"
      ],
      "execution_count": null,
      "outputs": [
        {
          "output_type": "stream",
          "text": [
            "(35083.574447887535, [0.5021561732878445, 0.2775407876360784, -0.6314985613353229, -2.299014557876747, -4.79905988623858, -8.20568723067121, -12.592949275425026, -18.034898704750407, -24.60558820289775, -32.37907045411743, -41.42939814265985, -51.83062395277538, -63.656800568714445, -76.98198067472737, -91.88021695506458, -108.42556209397647, -126.6920687757134, -146.7537896845258, -168.68477750466397, -192.5590849203784])\n",
            "Loss at epoch 0 is 14612.692644471439\n",
            "Loss at epoch 500 is 154.94052365274825\n",
            "Loss at epoch 1000 is 83.0377467068354\n",
            "Loss at epoch 1500 is 45.18291252992711\n",
            "Loss at epoch 2000 is 25.25234288625733\n",
            "Loss at epoch 2500 is 14.757862067287476\n",
            "Loss at epoch 3000 is 9.230941774976017\n",
            "Loss at epoch 3500 is 6.319162289958774\n",
            "Loss at epoch 4000 is 4.7841124212801756\n",
            "Loss at epoch 4500 is 3.9738407707944\n",
            "Loss at epoch 5000 is 3.5451330668040244\n",
            "Loss at epoch 5500 is 3.3173070140422345\n",
            "Loss at epoch 6000 is 3.1952438958447917\n",
            "Loss at epoch 6500 is 3.1288692419796433\n",
            "Loss at epoch 7000 is 3.091821724786186\n",
            "Loss at epoch 7500 is 3.0702236060629664\n",
            "Loss at epoch 8000 is 3.056769014661943\n",
            "Loss at epoch 8500 is 3.047611795827839\n",
            "Loss at epoch 9000 is 3.0407271220399967\n",
            "Loss at epoch 9500 is 3.0350489939063174\n",
            "Loss at epoch 10000 is 3.0300161731616404\n",
            "Loss at epoch 10500 is 3.0253331517069446\n",
            "Loss at epoch 11000 is 3.0208443102403426\n",
            "Loss at epoch 11500 is 3.016467675110599\n",
            "Loss at epoch 12000 is 3.0121600409284572\n",
            "Loss at epoch 12500 is 3.0078986127617244\n",
            "Loss at epoch 13000 is 3.0036713381795637\n",
            "Loss at epoch 13500 is 2.999471823496182\n",
            "Loss at epoch 14000 is 2.995296653678077\n",
            "Loss at epoch 14500 is 2.9911439803685136\n",
            "Loss at epoch 15000 is 2.9870127805435316\n",
            "Loss at epoch 15500 is 2.9829024677623286\n",
            "Loss at epoch 16000 is 2.9788126822913443\n",
            "Loss at epoch 16500 is 2.9747431878898634\n",
            "Loss at epoch 17000 is 2.97069381082976\n",
            "Loss at epoch 17500 is 2.966664410734865\n",
            "Loss at epoch 18000 is 2.9626548662940504\n",
            "Loss at epoch 18500 is 2.9586650658005036\n",
            "Loss at epoch 19000 is 2.9546949040808124\n",
            "Loss at epoch 19500 is 2.950744275323148\n",
            "Loss at epoch 20000 is 2.9468130795787335\n",
            "Loss at epoch 20500 is 2.9429012164852315\n",
            "Loss at epoch 21000 is 2.939008586469379\n",
            "Loss at epoch 21500 is 2.9351350912983873\n",
            "Loss at epoch 22000 is 2.931280631045479\n",
            "Loss at epoch 22500 is 2.9274451099749506\n",
            "Loss at epoch 23000 is 2.9236284307794187\n",
            "Loss at epoch 23500 is 2.9198304963631467\n",
            "Loss at epoch 24000 is 2.9160512115338126\n",
            "Loss at epoch 24500 is 2.9122904794357694\n",
            "Loss at epoch 25000 is 2.9085482062963153\n",
            "Loss at epoch 25500 is 2.904824296736483\n",
            "Loss at epoch 26000 is 2.901118657272998\n",
            "Loss at epoch 26500 is 2.8974311939598807\n",
            "Loss at epoch 27000 is 2.89376181431678\n",
            "Loss at epoch 27500 is 2.8901104261570034\n",
            "Loss at epoch 28000 is 2.886476935924066\n",
            "Loss at epoch 28500 is 2.882861253037399\n",
            "Loss at epoch 29000 is 2.8792632859649685\n",
            "Loss at epoch 29500 is 2.875682943511701\n",
            "Loss at epoch 30000 is 2.8721201365541162\n",
            "Loss at epoch 30500 is 2.868574774233637\n",
            "Loss at epoch 31000 is 2.8650467678864375\n",
            "Loss at epoch 31500 is 2.8615360287398324\n",
            "Loss at epoch 32000 is 2.858042467611634\n",
            "Loss at epoch 32500 is 2.8545659970948174\n",
            "Loss at epoch 33000 is 2.851106530263915\n",
            "Loss at epoch 33500 is 2.8476639791725806\n",
            "Loss at epoch 34000 is 2.8442382581127514\n",
            "Loss at epoch 34500 is 2.8408292800291015\n",
            "Loss at epoch 35000 is 2.8374369602349025\n",
            "Loss at epoch 35500 is 2.834061212887147\n",
            "Loss at epoch 36000 is 2.830701952422264\n",
            "Loss at epoch 36500 is 2.8273590952759347\n",
            "Loss at epoch 37000 is 2.824032557286759\n",
            "Loss at epoch 37500 is 2.820722255247023\n",
            "Loss at epoch 38000 is 2.8174281060557793\n",
            "Loss at epoch 38500 is 2.814150026715464\n",
            "Loss at epoch 39000 is 2.810887935611875\n",
            "Loss at epoch 39500 is 2.807641750031219\n",
            "Loss at epoch 40000 is 2.804411389834731\n",
            "Loss at epoch 40500 is 2.8011967733610525\n",
            "Loss at epoch 41000 is 2.7979978198411537\n",
            "Loss at epoch 41500 is 2.794814448817039\n",
            "Loss at epoch 42000 is 2.7916465812229423\n",
            "Loss at epoch 42500 is 2.7884941372148684\n",
            "Loss at epoch 43000 is 2.7853570387983533\n",
            "Loss at epoch 43500 is 2.7822352064098714\n",
            "Loss at epoch 44000 is 2.7791285624036424\n",
            "Loss at epoch 44500 is 2.7760370295983874\n",
            "Loss at epoch 45000 is 2.7729605290739667\n",
            "Loss at epoch 45500 is 2.7698989852033487\n",
            "Loss at epoch 46000 is 2.7668523219768213\n",
            "Loss at epoch 46500 is 2.7638204627957106\n",
            "Loss at epoch 47000 is 2.7608033313671063\n",
            "Loss at epoch 47500 is 2.757800853766932\n",
            "Loss at epoch 48000 is 2.7548129533517947\n",
            "Loss at epoch 48500 is 2.751839556047605\n",
            "Loss at epoch 49000 is 2.7488805874617626\n",
            "Loss at epoch 49500 is 2.745935973924113\n",
            "Loss at epoch 50000 is 2.7430056432538574\n",
            "Loss at epoch 50500 is 2.740089520795634\n",
            "Loss at epoch 51000 is 2.7371875353634945\n",
            "Loss at epoch 51500 is 2.7342996138951077\n",
            "Loss at epoch 52000 is 2.731425684347646\n",
            "Loss at epoch 52500 is 2.728565674779964\n",
            "Loss at epoch 53000 is 2.7257195149217566\n",
            "Loss at epoch 53500 is 2.7228871332395412\n",
            "Loss at epoch 54000 is 2.7200684599178135\n",
            "Loss at epoch 54500 is 2.7172634245375202\n",
            "Loss at epoch 55000 is 2.7144719572321407\n",
            "Loss at epoch 55500 is 2.7116939887023364\n",
            "Loss at epoch 56000 is 2.7089294501456287\n",
            "Loss at epoch 56500 is 2.706178272996419\n",
            "Loss at epoch 57000 is 2.7034403881790032\n",
            "Loss at epoch 57500 is 2.7007157281545373\n",
            "Loss at epoch 58000 is 2.698004226593187\n",
            "Loss at epoch 58500 is 2.695305814699773\n",
            "Loss at epoch 59000 is 2.6926204253962003\n",
            "Loss at epoch 59500 is 2.6899479923734986\n",
            "Loss at epoch 60000 is 2.687288450286728\n",
            "Loss at epoch 60500 is 2.684641733148741\n",
            "Loss at epoch 61000 is 2.6820077742598207\n",
            "Loss at epoch 61500 is 2.679386509674143\n",
            "Loss at epoch 62000 is 2.676777873752835\n",
            "Loss at epoch 62500 is 2.6741818022585293\n",
            "Loss at epoch 63000 is 2.671598230704688\n",
            "Loss at epoch 63500 is 2.6690270960651485\n",
            "Loss at epoch 64000 is 2.6664683337973267\n",
            "Loss at epoch 64500 is 2.663921880801903\n",
            "Loss at epoch 65000 is 2.6613876748175516\n",
            "Loss at epoch 65500 is 2.65886565313401\n",
            "Loss at epoch 66000 is 2.6563557521997616\n",
            "Loss at epoch 66500 is 2.6538579118813796\n",
            "Loss at epoch 67000 is 2.6513720698559164\n",
            "Loss at epoch 67500 is 2.648898164422843\n",
            "Loss at epoch 68000 is 2.6464361351226477\n",
            "Loss at epoch 68500 is 2.64398592191822\n",
            "Loss at epoch 69000 is 2.6415474629712565\n",
            "Loss at epoch 69500 is 2.6391206991232656\n",
            "Loss at epoch 70000 is 2.636705570466339\n",
            "Loss at epoch 70500 is 2.634302018024094\n",
            "Loss at epoch 71000 is 2.6319099817187928\n",
            "Loss at epoch 71500 is 2.629529404007752\n",
            "Loss at epoch 72000 is 2.6271602248131836\n",
            "Loss at epoch 72500 is 2.6248023869599466\n",
            "Loss at epoch 73000 is 2.6224558326483285\n",
            "Loss at epoch 73500 is 2.620120503744028\n",
            "Loss at epoch 74000 is 2.6177963433089575\n",
            "Loss at epoch 74500 is 2.615483293979997\n",
            "Loss at epoch 75000 is 2.6131812989032066\n",
            "Loss at epoch 75500 is 2.610890302080563\n",
            "Loss at epoch 76000 is 2.6086102474481985\n",
            "Loss at epoch 76500 is 2.6063410787235664\n",
            "Loss at epoch 77000 is 2.604082740381178\n",
            "Loss at epoch 77500 is 2.6018351772418162\n",
            "Loss at epoch 78000 is 2.599598334653426\n",
            "Loss at epoch 78500 is 2.5973721576895143\n",
            "Loss at epoch 79000 is 2.5951565912046917\n",
            "Loss at epoch 79500 is 2.5929515814957584\n",
            "Loss at epoch 80000 is 2.5907570754963563\n",
            "Loss at epoch 80500 is 2.588573018894063\n",
            "Loss at epoch 81000 is 2.5863993583212057\n",
            "Loss at epoch 81500 is 2.5842360409957736\n",
            "Loss at epoch 82000 is 2.5820830137538353\n",
            "Loss at epoch 82500 is 2.5799402238767124\n",
            "Loss at epoch 83000 is 2.5778076199960727\n",
            "Loss at epoch 83500 is 2.57568514964761\n",
            "Loss at epoch 84000 is 2.5735727609797547\n",
            "Loss at epoch 84500 is 2.5714704024340747\n",
            "Loss at epoch 85000 is 2.5693780232627472\n",
            "Loss at epoch 85500 is 2.5672955728046554\n",
            "Loss at epoch 86000 is 2.5652229995344857\n",
            "Loss at epoch 86500 is 2.5631602540306906\n",
            "Loss at epoch 87000 is 2.5611072849905225\n",
            "Loss at epoch 87500 is 2.559064043247165\n",
            "Loss at epoch 88000 is 2.5570304798218535\n",
            "Loss at epoch 88500 is 2.5550065438154053\n",
            "Loss at epoch 89000 is 2.552992187650823\n",
            "Loss at epoch 89500 is 2.5509873614970506\n",
            "Loss at epoch 90000 is 2.5489920172662788\n",
            "Loss at epoch 90500 is 2.547006106793541\n",
            "Loss at epoch 91000 is 2.5450295816784183\n",
            "Loss at epoch 91500 is 2.5430623938151724\n",
            "Loss at epoch 92000 is 2.5411044957619326\n",
            "Loss at epoch 92500 is 2.539155840403761\n",
            "Loss at epoch 93000 is 2.5372163798423215\n",
            "Loss at epoch 93500 is 2.535286067850422\n",
            "Loss at epoch 94000 is 2.5333648577490395\n",
            "Loss at epoch 94500 is 2.531452703023562\n",
            "Loss at epoch 95000 is 2.5295495576842013\n",
            "Loss at epoch 95500 is 2.527655375937054\n",
            "Loss at epoch 96000 is 2.525770111935466\n",
            "Loss at epoch 96500 is 2.5238937198889277\n",
            "Loss at epoch 97000 is 2.5220261549453244\n",
            "Loss at epoch 97500 is 2.520167371935216\n",
            "Loss at epoch 98000 is 2.5183173260698792\n",
            "Loss at epoch 98500 is 2.516475973171497\n",
            "Loss at epoch 99000 is 2.514643268467037\n",
            "Loss at epoch 99500 is 2.51281916826494\n"
          ],
          "name": "stdout"
        },
        {
          "output_type": "execute_result",
          "data": {
            "text/plain": [
              "110.80915808677673"
            ]
          },
          "metadata": {
            "tags": []
          },
          "execution_count": 13
        }
      ]
    },
    {
      "cell_type": "code",
      "metadata": {
        "colab": {
          "base_uri": "https://localhost:8080/"
        },
        "id": "bu1LAUfy94Ao",
        "outputId": "b364aaa9-35f3-48b5-f3d0-af87259a9e05"
      },
      "source": [
        "w_vector"
      ],
      "execution_count": null,
      "outputs": [
        {
          "output_type": "execute_result",
          "data": {
            "text/plain": [
              "array([ 0.45834011,  0.24069605, -0.10785949,  0.00862487])"
            ]
          },
          "metadata": {
            "tags": []
          },
          "execution_count": 14
        }
      ]
    },
    {
      "cell_type": "markdown",
      "metadata": {
        "id": "IthtfI7ap5bG"
      },
      "source": [
        "Plot of the loss with epochs"
      ]
    },
    {
      "cell_type": "code",
      "metadata": {
        "colab": {
          "base_uri": "https://localhost:8080/",
          "height": 283
        },
        "id": "vAz7ZS_o-F-u",
        "outputId": "1984a723-f769-4921-c6b6-7eb376c9bb21"
      },
      "source": [
        "epochs = range(100000)\r\n",
        "plt.plot(epochs,lossf)"
      ],
      "execution_count": null,
      "outputs": [
        {
          "output_type": "execute_result",
          "data": {
            "text/plain": [
              "[<matplotlib.lines.Line2D at 0x7f3f6fbad208>]"
            ]
          },
          "metadata": {
            "tags": []
          },
          "execution_count": 15
        },
        {
          "output_type": "display_data",
          "data": {
            "image/png": "[encoded data removed]",
            "text/plain": [
              "<Figure size 432x288 with 1 Axes>"
            ]
          },
          "metadata": {
            "tags": [],
            "needs_background": "light"
          }
        }
      ]
    },
    {
      "cell_type": "markdown",
      "metadata": {
        "id": "l5kVoeWSp857"
      },
      "source": [
        "Plotting the function we generated and comparing it with the benchmark sin(x) in green"
      ]
    },
    {
      "cell_type": "code",
      "metadata": {
        "colab": {
          "base_uri": "https://localhost:8080/",
          "height": 283
        },
        "id": "91weXFkV-HD3",
        "outputId": "fbdf3939-f4ce-47f3-bc7a-2367ecbc861b"
      },
      "source": [
        "a = np.linspace(0,10,num=70)\r\n",
        "plt.plot(a,np.sin(a),color='green')\r\n",
        "plt.scatter(x,y,color='black')\r\n",
        "plt.scatter(x,yhat,color='red')\r\n",
        "plt.plot(x,yhat)"
      ],
      "execution_count": null,
      "outputs": [
        {
          "output_type": "execute_result",
          "data": {
            "text/plain": [
              "[<matplotlib.lines.Line2D at 0x7f3f6fb89f60>]"
            ]
          },
          "metadata": {
            "tags": []
          },
          "execution_count": 16
        },
        {
          "output_type": "display_data",
          "data": {
            "image/png": "[encoded data removed]",
            "text/plain": [
              "<Figure size 432x288 with 1 Axes>"
            ]
          },
          "metadata": {
            "tags": [],
            "needs_background": "light"
          }
        }
      ]
    },
    {
      "cell_type": "markdown",
      "metadata": {
        "id": "_InHKVbRv4Vh"
      },
      "source": [
        "With a higher degree polynomial and more data, we can obtain a better curve. But the obtained blue curve has behaviour like sin(x), only that the crests and troughs are much smaller "
      ]
    },
    {
      "cell_type": "markdown",
      "metadata": {
        "id": "t_PeSXALd4pn"
      },
      "source": [
        "**Creating a general function for model creation**"
      ]
    },
    {
      "cell_type": "code",
      "metadata": {
        "id": "FWjEjSlmd_ju"
      },
      "source": [
        "def model_creation(lossfn,x,y,w,learning_rate,epoch):\r\n",
        "  t=time.time()\r\n",
        "  loss2=[]\r\n",
        "  print(lossfn(y,x,w))\r\n",
        "  yhat=[]\r\n",
        "  grads=[0,0,0,0]\r\n",
        "  for i in range(epoch):\r\n",
        "    #print(grads)\r\n",
        "    j=0\r\n",
        "    while(j<4):\r\n",
        "      grads[j],yhat = grad2(lossfn,w,x,y,0.0000000001,j)\r\n",
        "      j+=1\r\n",
        "    j=0\r\n",
        "    #print(grads)\r\n",
        "    while(j<4):\r\n",
        "      w[j]-= learning_rate*grads[j]\r\n",
        "      j+=1\r\n",
        "    l,_= lossfn(y,x,w)\r\n",
        "    loss2.append(l)\r\n",
        "    if i%1000 == 0:\r\n",
        "      print(\"Loss at epoch {} is {}\".format(i,l))\r\n",
        "  print(\"Loss at epoch {} is {}\".format(epoch,l))\r\n",
        "  return loss2,yhat\r\n"
      ],
      "execution_count": null,
      "outputs": []
    },
    {
      "cell_type": "code",
      "metadata": {
        "colab": {
          "base_uri": "https://localhost:8080/"
        },
        "id": "rtrEVO0agowW",
        "outputId": "4e14f0e5-0e22-4c2d-aabf-5b1202589991"
      },
      "source": [
        "t=time.time()\r\n",
        "w_vector = np.random.randn(4)\r\n",
        "print(w_vector)\r\n",
        "time.time()-t"
      ],
      "execution_count": null,
      "outputs": [
        {
          "output_type": "stream",
          "text": [
            "[ 0.85978344  0.85571474  0.72477313 -0.06035355]\n"
          ],
          "name": "stdout"
        },
        {
          "output_type": "execute_result",
          "data": {
            "text/plain": [
              "0.0005464553833007812"
            ]
          },
          "metadata": {
            "tags": []
          },
          "execution_count": 42
        }
      ]
    },
    {
      "cell_type": "code",
      "metadata": {
        "colab": {
          "base_uri": "https://localhost:8080/"
        },
        "id": "G2QbLCCLgP5R",
        "outputId": "84877ea7-b1ff-4af4-97f1-003ae3be0b78"
      },
      "source": [
        "l,yhat = model_creation(loss,x,y,w_vector,1e-6,100000)"
      ],
      "execution_count": null,
      "outputs": [
        {
          "output_type": "stream",
          "text": [
            "(1299.8467894916862, [0.8597834412083103, 1.5021286250178654, 2.4932151128677007, 3.7802478474502523, 5.310431771457951, 7.030971827583235, 8.889072958518538, 10.831940106956296, 12.806778215588936, 14.760792227108903, 16.641187084208624, 18.39516772958054, 19.96993910591708, 21.312706155910675, 22.37067382225378, 23.091047047638803, 23.421030774758187, 23.307829946304373, 22.69864950496981, 21.540694393446895])\n",
            "Loss at epoch 0 is 725.9315728947381\n",
            "Loss at epoch 1000 is 92.85051094343538\n",
            "Loss at epoch 2000 is 28.57995532393329\n",
            "Loss at epoch 3000 is 10.754689793525877\n",
            "Loss at epoch 4000 is 5.80144595802159\n",
            "Loss at epoch 5000 is 4.415699357943294\n",
            "Loss at epoch 6000 is 4.018784124956657\n",
            "Loss at epoch 7000 is 3.8960447455767144\n",
            "Loss at epoch 8000 is 3.8494194406974183\n",
            "Loss at epoch 9000 is 3.8240157487991873\n",
            "Loss at epoch 10000 is 3.8046193608755083\n",
            "Loss at epoch 11000 is 3.787012440812956\n",
            "Loss at epoch 12000 is 3.7700247575194297\n",
            "Loss at epoch 13000 is 3.753330718124812\n",
            "Loss at epoch 14000 is 3.7368388348259454\n",
            "Loss at epoch 15000 is 3.720522510992831\n",
            "Loss at epoch 16000 is 3.704373145022717\n",
            "Loss at epoch 17000 is 3.6883871444815117\n",
            "Loss at epoch 18000 is 3.6725623110565846\n",
            "Loss at epoch 19000 is 3.6568968501599257\n",
            "Loss at epoch 20000 is 3.641389088181337\n",
            "Loss at epoch 21000 is 3.6260373968710002\n",
            "Loss at epoch 22000 is 3.6108401763235074\n",
            "Loss at epoch 23000 is 3.5957958410038304\n",
            "Loss at epoch 24000 is 3.5809028275723565\n",
            "Loss at epoch 25000 is 3.566159580614156\n",
            "Loss at epoch 26000 is 3.5515645686726205\n",
            "Loss at epoch 27000 is 3.5371162744356486\n",
            "Loss at epoch 28000 is 3.5228131939289127\n",
            "Loss at epoch 29000 is 3.508653838373065\n",
            "Loss at epoch 30000 is 3.494636735088771\n",
            "Loss at epoch 31000 is 3.480760429234386\n",
            "Loss at epoch 32000 is 3.4670234775786994\n",
            "Loss at epoch 33000 is 3.453424454652432\n",
            "Loss at epoch 34000 is 3.4399619432034068\n",
            "Loss at epoch 35000 is 3.4266345492269883\n",
            "Loss at epoch 36000 is 3.4134408879193714\n",
            "Loss at epoch 37000 is 3.4003795876005554\n",
            "Loss at epoch 38000 is 3.387449293789712\n",
            "Loss at epoch 39000 is 3.3746486650779777\n",
            "Loss at epoch 40000 is 3.3619763717802122\n",
            "Loss at epoch 41000 is 3.349431102061676\n",
            "Loss at epoch 42000 is 3.337011554578951\n",
            "Loss at epoch 43000 is 3.3247164419480777\n",
            "Loss at epoch 44000 is 3.3125444894485874\n",
            "Loss at epoch 45000 is 3.300494435940128\n",
            "Loss at epoch 46000 is 3.28856503238225\n",
            "Loss at epoch 47000 is 3.2767550435195374\n",
            "Loss at epoch 48000 is 3.2650632460676325\n",
            "Loss at epoch 49000 is 3.2534884327345517\n",
            "Loss at epoch 50000 is 3.242029404309188\n",
            "Loss at epoch 51000 is 3.2306849742680894\n",
            "Loss at epoch 52000 is 3.2194539699326628\n",
            "Loss at epoch 53000 is 3.2083352298681405\n",
            "Loss at epoch 54000 is 3.197327603412418\n",
            "Loss at epoch 55000 is 3.186429954405552\n",
            "Loss at epoch 56000 is 3.1756411566218405\n",
            "Loss at epoch 57000 is 3.16496009643398\n",
            "Loss at epoch 58000 is 3.154385672618067\n",
            "Loss at epoch 59000 is 3.1439167898328417\n",
            "Loss at epoch 60000 is 3.1335523710805764\n",
            "Loss at epoch 61000 is 3.1232913444700956\n",
            "Loss at epoch 62000 is 3.1131326526550693\n",
            "Loss at epoch 63000 is 3.1030752481208106\n",
            "Loss at epoch 64000 is 3.093118093975297\n",
            "Loss at epoch 65000 is 3.0832601655991208\n",
            "Loss at epoch 66000 is 3.073500444916581\n",
            "Loss at epoch 67000 is 3.063837928568144\n",
            "Loss at epoch 68000 is 3.0542716217838866\n",
            "Loss at epoch 69000 is 3.0448005406626617\n",
            "Loss at epoch 70000 is 3.035423709639536\n",
            "Loss at epoch 71000 is 3.026140164290811\n",
            "Loss at epoch 72000 is 3.0169489494632726\n",
            "Loss at epoch 73000 is 3.007849122921872\n",
            "Loss at epoch 74000 is 2.9988397464814893\n",
            "Loss at epoch 75000 is 2.9899198966335856\n",
            "Loss at epoch 76000 is 2.981088658079153\n",
            "Loss at epoch 77000 is 2.972345121706508\n",
            "Loss at epoch 78000 is 2.963688390596997\n",
            "Loss at epoch 79000 is 2.9551175775886156\n",
            "Loss at epoch 80000 is 2.9466318040391832\n",
            "Loss at epoch 81000 is 2.938230200314937\n",
            "Loss at epoch 82000 is 2.9299119049271716\n",
            "Loss at epoch 83000 is 2.921676065682202\n",
            "Loss at epoch 84000 is 2.9135218391110542\n",
            "Loss at epoch 85000 is 2.9054483899555135\n",
            "Loss at epoch 86000 is 2.8974548923903183\n",
            "Loss at epoch 87000 is 2.889540527928662\n",
            "Loss at epoch 88000 is 2.8817044887231997\n",
            "Loss at epoch 89000 is 2.8739459729918835\n",
            "Loss at epoch 90000 is 2.8662641883632105\n",
            "Loss at epoch 91000 is 2.858658350114004\n",
            "Loss at epoch 92000 is 2.8511276811675472\n",
            "Loss at epoch 93000 is 2.843671414672657\n",
            "Loss at epoch 94000 is 2.8362887869899778\n",
            "Loss at epoch 95000 is 2.8289790474670866\n",
            "Loss at epoch 96000 is 2.8217414494672757\n",
            "Loss at epoch 97000 is 2.81457525609144\n",
            "Loss at epoch 98000 is 2.807479738005912\n",
            "Loss at epoch 99000 is 2.800454170803714\n",
            "Loss at epoch 100000 is 2.7935047630070127\n"
          ],
          "name": "stdout"
        }
      ]
    },
    {
      "cell_type": "code",
      "metadata": {
        "colab": {
          "base_uri": "https://localhost:8080/",
          "height": 283
        },
        "id": "CB_Y7KXYgiWu",
        "outputId": "e512e27d-265e-4482-9a2d-7221d830f220"
      },
      "source": [
        "a = np.linspace(0,10,num=70)\r\n",
        "plt.plot(a,np.sin(a),color='green')\r\n",
        "plt.scatter(x,y,color='black')\r\n",
        "plt.scatter(x,yhat,color='red')\r\n",
        "plt.plot(x,yhat)"
      ],
      "execution_count": null,
      "outputs": [
        {
          "output_type": "execute_result",
          "data": {
            "text/plain": [
              "[<matplotlib.lines.Line2D at 0x7f3f678726d8>]"
            ]
          },
          "metadata": {
            "tags": []
          },
          "execution_count": 44
        },
        {
          "output_type": "display_data",
          "data": {
            "image/png": "[encoded data removed]",
            "text/plain": [
              "<Figure size 432x288 with 1 Axes>"
            ]
          },
          "metadata": {
            "tags": [],
            "needs_background": "light"
          }
        }
      ]
    },
    {
      "cell_type": "markdown",
      "metadata": {
        "id": "BWFwYjDpqJG-"
      },
      "source": [
        "Now, we will try out for the 2nd loss function. We need a lot more epochs here"
      ]
    },
    {
      "cell_type": "code",
      "metadata": {
        "colab": {
          "base_uri": "https://localhost:8080/"
        },
        "id": "rOmmBQ_LZplW",
        "outputId": "8b7dee3a-73a4-4381-d7e4-81be5efb3b0e"
      },
      "source": [
        "t=time.time()\r\n",
        "w_vector = np.random.randn(4)\r\n",
        "print(w_vector)\r\n",
        "time.time()-t"
      ],
      "execution_count": null,
      "outputs": [
        {
          "output_type": "stream",
          "text": [
            "[ 0.24719316  1.68196451 -0.87514259  0.36664321]\n"
          ],
          "name": "stdout"
        },
        {
          "output_type": "execute_result",
          "data": {
            "text/plain": [
              "0.00043964385986328125"
            ]
          },
          "metadata": {
            "tags": []
          },
          "execution_count": 17
        }
      ]
    },
    {
      "cell_type": "code",
      "metadata": {
        "colab": {
          "base_uri": "https://localhost:8080/"
        },
        "id": "zlcwogfSXvI_",
        "outputId": "4ed10f43-3734-473b-dd42-bed0adb1d9d5"
      },
      "source": [
        "t=time.time()\r\n",
        "print(lossmod(y,x,w_vector))\r\n",
        "yhat = []\r\n",
        "lossf = []\r\n",
        "#finding gradient wrt w[0]\r\n",
        "for i in range(50000):\r\n",
        "  #g4,yhat = grad2(loss,w_vector,x,y,0.0000000001,4)\r\n",
        "  g3,yhat = grad2(lossmod,w_vector,x,y,0.0000000001,3)\r\n",
        "  g2,yhat = grad2(lossmod,w_vector,x,y,0.0000000001,2)\r\n",
        "  g1,yhat = grad2(lossmod,w_vector,x,y,0.0000000001,1)\r\n",
        "  g0,yhat = grad2(lossmod,w_vector,x,y,0.0000000001,0)\r\n",
        "  #for j in range(6):\r\n",
        "  #  w_vector[j]-=0.1\r\n",
        "  \r\n",
        "  #w_vector[4]-=1e-8*g4\r\n",
        "  #print(\"w[4] {}\".format(w_vector[4]))\r\n",
        "  w_vector[3]-=1e-7*g3\r\n",
        "  #print(\"w[3] {}\".format(w_vector[3]))\r\n",
        "  w_vector[2]-=1e-7*g2\r\n",
        "  #print(\"w[2] {}\".format(w_vector[2]))\r\n",
        "  w_vector[1]-=1e-7*g1\r\n",
        "  #print(\"w[1] {}\".format(w_vector[1]))\r\n",
        "  w_vector[0]-=1e-7*g0\r\n",
        "  #print(\"w[0] {}\".format(w_vector[0]))\r\n",
        "  #print(yhat)\r\n",
        "  l,_ = lossmod(y,x,w_vector)\r\n",
        "  lossf.append(l)\r\n",
        "  if i%1000 == 0:\r\n",
        "    print(\"Loss at epoch {} is {}\".format(i,l))\r\n",
        "\r\n",
        "time.time()-t"
      ],
      "execution_count": null,
      "outputs": [
        {
          "output_type": "stream",
          "text": [
            "(1500.7265955131707, [0.24719315910283626, 0.9434701907457096, 1.4756296281972585, 2.164397415675446, 3.330499497398235, 5.294661817583587, 8.377610320449472, 12.900070950213843, 19.182769651094674, 27.54643236730991, 38.31178504307753, 51.7995536226155, 68.3304640501418, 88.22524226987434, 111.8046142260311, 139.38930586283007, 171.30004312448924, 207.85755195522654, 249.38255829925978, 296.19578810080725])\n",
            "Loss at epoch 0 is 1497.9086588443765\n",
            "Loss at epoch 1000 is 48.698819446803185\n",
            "Loss at epoch 2000 is 47.0812810097802\n",
            "Loss at epoch 3000 is 45.48002521457152\n",
            "Loss at epoch 4000 is 43.862486881712975\n",
            "Loss at epoch 5000 is 42.26123101315327\n",
            "Loss at epoch 6000 is 40.64369264486344\n",
            "Loss at epoch 7000 is 39.042436757864664\n",
            "Loss at epoch 8000 is 37.50802377079372\n",
            "Loss at epoch 9000 is 36.080583919854725\n",
            "Loss at epoch 10000 is 34.66706458562361\n",
            "Loss at epoch 11000 is 33.239624714317074\n",
            "Loss at epoch 12000 is 31.91012529875894\n",
            "Loss at epoch 13000 is 30.97337652643863\n",
            "Loss at epoch 14000 is 30.09949221028706\n",
            "Loss at epoch 15000 is 29.427110055962142\n",
            "Loss at epoch 16000 is 28.807618498966786\n",
            "Loss at epoch 17000 is 28.188126932115225\n",
            "Loss at epoch 18000 is 27.72292582110353\n",
            "Loss at epoch 19000 is 27.354563819343735\n",
            "Loss at epoch 20000 is 26.98620176961919\n",
            "Loss at epoch 21000 is 26.652831717014227\n",
            "Loss at epoch 22000 is 26.284469643127935\n",
            "Loss at epoch 23000 is 25.930645689838503\n",
            "Loss at epoch 24000 is 25.582737535740016\n",
            "Loss at epoch 25000 is 25.21437545187225\n",
            "Loss at epoch 26000 is 25.034334930874763\n",
            "Loss at epoch 27000 is 24.858063461459917\n",
            "Loss at epoch 28000 is 24.739400912784866\n",
            "Loss at epoch 29000 is 24.571699837592117\n",
            "Loss at epoch 30000 is 24.429449195039883\n",
            "Loss at epoch 31000 is 24.285336283035427\n",
            "Loss at epoch 32000 is 24.119497500790015\n",
            "Loss at epoch 33000 is 23.99897264979593\n",
            "Loss at epoch 34000 is 23.82270108456312\n",
            "Loss at epoch 35000 is 23.712609078760153\n",
            "Loss at epoch 36000 is 23.53633750721014\n",
            "Loss at epoch 37000 is 23.40399887514455\n",
            "Loss at epoch 38000 is 23.39018753438853\n",
            "Loss at epoch 39000 is 23.3397308736932\n",
            "Loss at epoch 40000 is 23.28927418793532\n",
            "Loss at epoch 41000 is 23.2598674640558\n",
            "Loss at epoch 42000 is 23.250308904888783\n",
            "Loss at epoch 43000 is 23.2368683531856\n",
            "Loss at epoch 44000 is 23.186411764069714\n",
            "Loss at epoch 45000 is 23.135955097143572\n",
            "Loss at epoch 46000 is 23.103216985652228\n",
            "Loss at epoch 47000 is 23.09365848118152\n",
            "Loss at epoch 48000 is 23.08354915980125\n",
            "Loss at epoch 49000 is 23.033092516690914\n"
          ],
          "name": "stdout"
        },
        {
          "output_type": "execute_result",
          "data": {
            "text/plain": [
              "54.87465143203735"
            ]
          },
          "metadata": {
            "tags": []
          },
          "execution_count": 18
        }
      ]
    },
    {
      "cell_type": "markdown",
      "metadata": {
        "id": "t04YSY3UqdaR"
      },
      "source": [
        "Plotting the function we generated"
      ]
    },
    {
      "cell_type": "code",
      "metadata": {
        "colab": {
          "base_uri": "https://localhost:8080/",
          "height": 283
        },
        "id": "2pr0SKT1M1wu",
        "outputId": "9f586409-c405-4f6b-f8e9-4e125f6b6a6c"
      },
      "source": [
        "a = np.linspace(0,10,num=70)\r\n",
        "plt.plot(a,np.sin(a),color='green')\r\n",
        "plt.scatter(x,y,color='black')\r\n",
        "plt.scatter(x,yhat,color='red')\r\n",
        "plt.plot(x,yhat)"
      ],
      "execution_count": null,
      "outputs": [
        {
          "output_type": "execute_result",
          "data": {
            "text/plain": [
              "[<matplotlib.lines.Line2D at 0x7f3f6fcca780>]"
            ]
          },
          "metadata": {
            "tags": []
          },
          "execution_count": 19
        },
        {
          "output_type": "display_data",
          "data": {
            "image/png": "[encoded data removed]",
            "text/plain": [
              "<Figure size 432x288 with 1 Axes>"
            ]
          },
          "metadata": {
            "tags": [],
            "needs_background": "light"
          }
        }
      ]
    },
    {
      "cell_type": "markdown",
      "metadata": {
        "id": "Y6E-6XDLqlB9"
      },
      "source": [
        "---\r\n",
        "With this, we have come to the end of the notebook! Our fitted curve might look to be very different from sin x, but if we compare datapoint for datapoint in blue and black, we see that actually we have done quite well on the dataset with little data. We did better with the Mean Squared error loss function. This means that the Mean Squared error function optimized the problem better  "
      ]
    }
  ]
}