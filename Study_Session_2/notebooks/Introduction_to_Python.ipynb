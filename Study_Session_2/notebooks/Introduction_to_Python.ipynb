{
  "nbformat": 4,
  "nbformat_minor": 0,
  "metadata": {
    "colab": {
      "name": "S4DS-Python-Introduction.ipynb",
      "provenance": [],
      "collapsed_sections": [
        "vmTxYWxBA6KT"
      ]
    },
    "kernelspec": {
      "name": "python3",
      "display_name": "Python 3"
    },
    "language_info": {
      "name": "python"
    }
  },
  "cells": [
    {
      "cell_type": "markdown",
      "metadata": {
        "id": "nr0hdQvgsPQO"
      },
      "source": [
        "This notebook was autohered by [Sayantan Dasgupta](https://github.com/Arka2001), [Nirmalya Misra](https://github.com/nirmalya8) and [Deepetendu Santra](https://github.com/Dsantra92)."
      ]
    },
    {
      "cell_type": "markdown",
      "metadata": {
        "id": "bbl4lYCIPbqg"
      },
      "source": [
        "# Introduction to python programming.\n",
        "\n",
        "## Data Types in python\n",
        "\n",
        "This is notebook is divided into three parts. This is the first section of the notebook covering basics python data types and some very basic commands.\n"
      ]
    },
    {
      "cell_type": "markdown",
      "metadata": {
        "id": "C9bNufz0ce1V"
      },
      "source": [
        "### Integers"
      ]
    },
    {
      "cell_type": "code",
      "metadata": {
        "colab": {
          "base_uri": "https://localhost:8080/"
        },
        "id": "SWbkmv_kchie",
        "outputId": "92ad428b-eb9a-45c1-8eef-03c35c25f8b5"
      },
      "source": [
        "# What is an integer?\n",
        "\n",
        "x = 10\n",
        "print(type(x))"
      ],
      "execution_count": null,
      "outputs": [
        {
          "output_type": "stream",
          "text": [
            "<class 'int'>\n"
          ],
          "name": "stdout"
        }
      ]
    },
    {
      "cell_type": "markdown",
      "metadata": {
        "id": "2mEfp4qEtk5L"
      },
      "source": [
        "![](https://user-images.githubusercontent.com/55111154/119298887-8dbe7280-bc7b-11eb-9d09-ad95f94dd177.png)"
      ]
    },
    {
      "cell_type": "markdown",
      "metadata": {
        "id": "rRT0mgsP4M3R"
      },
      "source": [
        "### Floating point numbers"
      ]
    },
    {
      "cell_type": "code",
      "metadata": {
        "colab": {
          "base_uri": "https://localhost:8080/"
        },
        "id": "qJpfdW724Pxc",
        "outputId": "4850d9b8-b5d8-4e9f-de17-a0b85455c120"
      },
      "source": [
        "# What is a float point number? Basically numbers which have a decimal point in them, like 5.20, 6.324, etc.\n",
        "\n",
        "x = 6.324\n",
        "print(type(x))"
      ],
      "execution_count": null,
      "outputs": [
        {
          "output_type": "stream",
          "text": [
            "<class 'float'>\n"
          ],
          "name": "stdout"
        }
      ]
    },
    {
      "cell_type": "markdown",
      "metadata": {
        "id": "shD04je_xB1d"
      },
      "source": [
        "Note: There are no specific byte information about the data type in python like int32, int64, float64, etc..Python does allow you access the memory like C does. It stores integer data and you need(can) not worry about the actual number of bytes taken up by the integer/float implementation in memory. "
      ]
    },
    {
      "cell_type": "markdown",
      "metadata": {
        "id": "DY0BCbwQA9NY"
      },
      "source": [
        "### Basic Mathematical Operations using integers and float"
      ]
    },
    {
      "cell_type": "code",
      "metadata": {
        "colab": {
          "base_uri": "https://localhost:8080/"
        },
        "id": "nsS892r8BDou",
        "outputId": "5d1c5853-b2cb-43ec-a605-aac22b9064dd"
      },
      "source": [
        "# There are mainly 6 types of mathematical operations in Python\n",
        "\n",
        "# '+' - addition operator\n",
        "print(5+6)\n",
        "\n",
        "# '-' - subtraction operator\n",
        "print(5-6)\n",
        "\n",
        "# '*' - Multiplication operator\n",
        "print(5*6)\n",
        "\n",
        "# '/' - Division operator\n",
        "print(5/6)\n",
        "\n",
        "# '//' - Division operator, but with a little twist ;-)\n",
        "print(5//6)\n",
        "\n",
        "# '**' - power operator\n",
        "print(5**3)  # 5^3"
      ],
      "execution_count": null,
      "outputs": [
        {
          "output_type": "stream",
          "text": [
            "11\n",
            "-1\n",
            "30\n",
            "0.8333333333333334\n",
            "0\n",
            "125\n"
          ],
          "name": "stdout"
        }
      ]
    },
    {
      "cell_type": "markdown",
      "metadata": {
        "id": "xJI1gyyQ8YOs"
      },
      "source": [
        "### String"
      ]
    },
    {
      "cell_type": "code",
      "metadata": {
        "colab": {
          "base_uri": "https://localhost:8080/"
        },
        "id": "2EIb4m2W8aLK",
        "outputId": "f8ff37ac-6bc4-45e0-ceaf-ee83c1eca11e"
      },
      "source": [
        "# String is also an important data type in python, or any programming language whatsoever\n",
        "# It is denoted by quotation marks, like this\n",
        "\n",
        "s = \"Hello World, 123\" # or s = 'Hello World, 123'\n",
        "\n",
        "# We can access any one of the elements of the string using their respective indices\n",
        "# In Python, indexing starts from 0\n",
        "\n",
        "print(\"First Element: \",s[0])\n",
        "print(\"Third element: \",s[2])"
      ],
      "execution_count": null,
      "outputs": [
        {
          "output_type": "stream",
          "text": [
            "First Element:  H\n",
            "Third element:  l\n"
          ],
          "name": "stdout"
        }
      ]
    },
    {
      "cell_type": "markdown",
      "metadata": {
        "id": "XykcP30-zYjG"
      },
      "source": [
        "Note : Unline C there is \\0 character at the end of the string in Python."
      ]
    },
    {
      "cell_type": "code",
      "metadata": {
        "colab": {
          "base_uri": "https://localhost:8080/",
          "height": 35
        },
        "id": "pKsni-bT9kfB",
        "outputId": "c38b18a0-f504-4972-b7f1-fb628409c350"
      },
      "source": [
        "# Negative indexing\n",
        "# There is also a special type of indexing supported in Python\n",
        "# That is negative indexing. This type of indexing starts from the last element of the string with an index of -1\n",
        "\n",
        "s[-2] #this is the second last element"
      ],
      "execution_count": null,
      "outputs": [
        {
          "output_type": "execute_result",
          "data": {
            "application/vnd.google.colaboratory.intrinsic+json": {
              "type": "string"
            },
            "text/plain": [
              "'2'"
            ]
          },
          "metadata": {
            "tags": []
          },
          "execution_count": 6
        }
      ]
    },
    {
      "cell_type": "code",
      "metadata": {
        "colab": {
          "base_uri": "https://localhost:8080/"
        },
        "id": "6vZ1mhxx-K_X",
        "outputId": "7cbb44b8-219c-4b16-f7ba-07b0d85cc421"
      },
      "source": [
        "# String slicing\n",
        "\n",
        "# Print the till the first 4 elements in s\n",
        "print(s[:4])\n",
        "\n",
        "# Print starting from the 5th  element in s\n",
        "print(s[4:])"
      ],
      "execution_count": null,
      "outputs": [
        {
          "output_type": "stream",
          "text": [
            "Hell\n",
            "o World, 123\n"
          ],
          "name": "stdout"
        }
      ]
    },
    {
      "cell_type": "code",
      "metadata": {
        "colab": {
          "base_uri": "https://localhost:8080/"
        },
        "id": "yigS1V6b_6Ao",
        "outputId": "29982289-4d0e-4d53-a05f-7293d2f8abae"
      },
      "source": [
        "# String to List and Vice versa\n",
        "\n",
        "s = \"Hello my name is Sayantan\"\n",
        "s_list = s.split(' ')\n",
        "# s_list = s.split('e')\n",
        "print(s_list)\n",
        "\n",
        "#s1 = ' '.join(s_list)\n",
        "#print(s1)"
      ],
      "execution_count": null,
      "outputs": [
        {
          "output_type": "stream",
          "text": [
            "['Hello', 'my', 'name', 'is', 'Sayantan']\n"
          ],
          "name": "stdout"
        }
      ]
    },
    {
      "cell_type": "code",
      "metadata": {
        "colab": {
          "base_uri": "https://localhost:8080/"
        },
        "id": "SUUZrOKQAkOG",
        "outputId": "03e78a19-b0c3-47c9-b0bf-5aa59192194f"
      },
      "source": [
        "# String Formatting\n",
        "\n",
        "age, age2 = 200, 210\n",
        "\n",
        "print(\"My age is {} and his age is {}\".format(age,age2))"
      ],
      "execution_count": null,
      "outputs": [
        {
          "output_type": "stream",
          "text": [
            "My age is 200 and his age is 210\n"
          ],
          "name": "stdout"
        }
      ]
    },
    {
      "cell_type": "markdown",
      "metadata": {
        "id": "EeyyU0h15A6E"
      },
      "source": [
        "### A quick demonstration of Dynamic Typing"
      ]
    },
    {
      "cell_type": "code",
      "metadata": {
        "colab": {
          "base_uri": "https://localhost:8080/"
        },
        "id": "DqGtWIpb5Lnb",
        "outputId": "7b5e904b-a0f2-4577-9831-059799673175"
      },
      "source": [
        "# Python is dynamically typed language. Which means that we do not have to explicitly declare the data type of a variable.\n",
        "# It is automatically inferred by the interpreter during runtime\n",
        "\n",
        "x = 5\n",
        "print(type(x))\n",
        "\n",
        "# Python is cool with changing data-types\n",
        "\n",
        "x = \"Five\"\n",
        "print(type(x))"
      ],
      "execution_count": null,
      "outputs": [
        {
          "output_type": "stream",
          "text": [
            "<class 'int'>\n",
            "<class 'str'>\n"
          ],
          "name": "stdout"
        }
      ]
    },
    {
      "cell_type": "markdown",
      "metadata": {
        "id": "LXAtlQ_oCFS-"
      },
      "source": [
        "### Functions"
      ]
    },
    {
      "cell_type": "code",
      "metadata": {
        "id": "KF9ARkCcCIA2"
      },
      "source": [
        "# In Python, a function is defined using the 'def' keyword\n",
        "\n",
        "# You are encouraged to use these kind of type hinting in functions\n",
        "# The reason will be clear in the next sections\n",
        "\n",
        "# The function runs without the type hints too\n",
        "\n",
        "def findMax(a : int,b : int, c : int ):\n",
        "  if(a>=b and a>=c):\n",
        "    return a\n",
        "  if(b>=a and b>=c):\n",
        "    return b\n",
        "  if(c>=a and c>=b):\n",
        "    return c\n",
        "\n",
        "\n",
        "# There is a better way to use multiple if statements\n",
        "# which Nirmalya will discuss in the next section"
      ],
      "execution_count": null,
      "outputs": []
    },
    {
      "cell_type": "code",
      "metadata": {
        "colab": {
          "base_uri": "https://localhost:8080/"
        },
        "id": "_80auxdoDSpe",
        "outputId": "b4df4c0e-a8ac-423f-9ae0-7447a1dad599"
      },
      "source": [
        "findMax(45,12,98)"
      ],
      "execution_count": null,
      "outputs": [
        {
          "output_type": "execute_result",
          "data": {
            "text/plain": [
              "98"
            ]
          },
          "metadata": {
            "tags": []
          },
          "execution_count": 15
        }
      ]
    },
    {
      "cell_type": "markdown",
      "metadata": {
        "id": "HVxRIfbyY1xj"
      },
      "source": [
        "## Control and Looping statements in Python"
      ]
    },
    {
      "cell_type": "markdown",
      "metadata": {
        "id": "qqkyhCFxL5S7"
      },
      "source": [
        "### Conditionals "
      ]
    },
    {
      "cell_type": "code",
      "metadata": {
        "colab": {
          "base_uri": "https://localhost:8080/"
        },
        "id": "zZFtQQacV9zH",
        "outputId": "c60c1bf1-4565-4f0f-bf59-8a9b7394562c"
      },
      "source": [
        "a =10\n",
        "b =0\n",
        "a > b "
      ],
      "execution_count": null,
      "outputs": [
        {
          "output_type": "execute_result",
          "data": {
            "text/plain": [
              "True"
            ]
          },
          "metadata": {
            "tags": []
          },
          "execution_count": 16
        }
      ]
    },
    {
      "cell_type": "code",
      "metadata": {
        "id": "c6ZnsrtEL7N0",
        "colab": {
          "base_uri": "https://localhost:8080/"
        },
        "outputId": "1d8d8076-d351-4713-d857-57ddac35337d"
      },
      "source": [
        "# Check if the coniditon evaluates to True and performs certain tasks\n",
        "if a > b:\n",
        "  print(a)\n",
        "# Execute if condition evaluates to be False\n",
        "else :\n",
        "  print(b)"
      ],
      "execution_count": null,
      "outputs": [
        {
          "output_type": "stream",
          "text": [
            "10\n"
          ],
          "name": "stdout"
        }
      ]
    },
    {
      "cell_type": "markdown",
      "metadata": {
        "id": "ZtUxvtLrWYnO"
      },
      "source": [
        "Make sure you keep maintain proper indentation throught the code. It is a common practise to use a Tab or 2xSpace for the indentation. Make sure you don't end up using both in the document."
      ]
    },
    {
      "cell_type": "code",
      "metadata": {
        "id": "-vUVWdrFL7BF",
        "colab": {
          "base_uri": "https://localhost:8080/"
        },
        "outputId": "ba8f8e32-45db-4025-e3be-1c8e28d6bef9"
      },
      "source": [
        "a =0\n",
        "b =0\n",
        "if a > b:\n",
        "  print(a)\n",
        "# Divert the control flow to check another condition\n",
        "elif a == b:\n",
        "  print(\"{} = {}\".format(a,b))\n",
        "else :\n",
        "  print(b)"
      ],
      "execution_count": null,
      "outputs": [
        {
          "output_type": "stream",
          "text": [
            "0 = 0\n"
          ],
          "name": "stdout"
        }
      ]
    },
    {
      "cell_type": "markdown",
      "metadata": {
        "id": "fxbwV2FUL9HL"
      },
      "source": [
        "### Loops"
      ]
    },
    {
      "cell_type": "markdown",
      "metadata": {
        "id": "zz-6-a30W9V5"
      },
      "source": [
        "What if you need to run a block of code again an again?\n",
        "\n",
        "For example if you need to print your name 100 times. You can make use of loops to do these repetitive tasks."
      ]
    },
    {
      "cell_type": "markdown",
      "metadata": {
        "id": "gNbc6zWQj6-0"
      },
      "source": [
        "Initialisation -> Condition -> Block of code -> Update"
      ]
    },
    {
      "cell_type": "markdown",
      "metadata": {
        "id": "_uVhSdPYXbBN"
      },
      "source": [
        "#### For loop "
      ]
    },
    {
      "cell_type": "code",
      "metadata": {
        "id": "uF4QFC9_L_Co",
        "colab": {
          "base_uri": "https://localhost:8080/"
        },
        "outputId": "9b6cb77e-e6a3-467b-8a53-b24540beb2ba"
      },
      "source": [
        "# for <variable> in range([start], stop, [step])\n",
        "# A [] around a variable in a function docstring indicates that the variable is optional\n",
        "\n",
        "for i in range(0,10,2):\n",
        "  print(i)"
      ],
      "execution_count": null,
      "outputs": [
        {
          "output_type": "stream",
          "text": [
            "0\n",
            "2\n",
            "4\n",
            "6\n",
            "8\n"
          ],
          "name": "stdout"
        }
      ]
    },
    {
      "cell_type": "markdown",
      "metadata": {
        "id": "dbGqO1m7XeVE"
      },
      "source": [
        "#### While loop"
      ]
    },
    {
      "cell_type": "code",
      "metadata": {
        "id": "IS24IGpzL-5P",
        "colab": {
          "base_uri": "https://localhost:8080/"
        },
        "outputId": "af99df63-ba11-4628-85cf-7375c87f7911"
      },
      "source": [
        "i = 0\n",
        "while i<10:\n",
        "  print(i)\n",
        "\n",
        "  i = i+2 # Make sure you update the iterating variable :)"
      ],
      "execution_count": null,
      "outputs": [
        {
          "output_type": "stream",
          "text": [
            "0\n",
            "2\n",
            "4\n",
            "6\n",
            "8\n"
          ],
          "name": "stdout"
        }
      ]
    },
    {
      "cell_type": "code",
      "metadata": {
        "id": "Gi1IbPiEXmc8"
      },
      "source": [
        "# Here is a block of code that does not update the looping variable in while loop\n",
        "# See for yourself what happens\n",
        "\n",
        "# i = 0\n",
        "# while i<10:\n",
        "#   print(i)"
      ],
      "execution_count": null,
      "outputs": []
    },
    {
      "cell_type": "markdown",
      "metadata": {
        "id": "hPpIHcEsKiWE"
      },
      "source": [
        "### Lists \n",
        "\n",
        "Suppose you need to store a group of objects together. Suppose you need to make a list of the groceries that your mum has asked you to bring from the store.\n",
        "\n",
        "Let us make a list of vegetables that you need to bring from the market."
      ]
    },
    {
      "cell_type": "code",
      "metadata": {
        "id": "hewn5LeZYa_U"
      },
      "source": [
        "vegetables = [\"Carrot🥕\", \"Eggplant 🍆\", \"Potato 🥔\", \"Corn 🌽\"]"
      ],
      "execution_count": null,
      "outputs": []
    },
    {
      "cell_type": "markdown",
      "metadata": {
        "id": "5exXXU5lZnTc"
      },
      "source": [
        "You are now too tired to count but you need to find out the number of items in the list. Thankfully python has got you covered. Use the python `len` function"
      ]
    },
    {
      "cell_type": "code",
      "metadata": {
        "id": "_fSOBsL3MJsl",
        "colab": {
          "base_uri": "https://localhost:8080/"
        },
        "outputId": "ee32299b-bf98-44e1-f224-c8ef38e9997f"
      },
      "source": [
        "len(vegetables)"
      ],
      "execution_count": null,
      "outputs": [
        {
          "output_type": "execute_result",
          "data": {
            "text/plain": [
              "4"
            ]
          },
          "metadata": {
            "tags": []
          },
          "execution_count": 22
        }
      ]
    },
    {
      "cell_type": "markdown",
      "metadata": {
        "id": "o7BDCTM2aHfo"
      },
      "source": [
        "Suddenly you remeber you forgot to add some juciy mangoes to the list. Can we add it to the list ? Absolutely, yes!!! "
      ]
    },
    {
      "cell_type": "markdown",
      "metadata": {
        "id": "SnNSvtWrKwjx"
      },
      "source": [
        "Inserting elements:\n",
        "- append(element)\n",
        "- insert(index, element)"
      ]
    },
    {
      "cell_type": "code",
      "metadata": {
        "id": "T-fYkdqbLCpC",
        "colab": {
          "base_uri": "https://localhost:8080/"
        },
        "outputId": "5798d133-bf7d-4a51-bbbc-5b6540307bda"
      },
      "source": [
        "vegetables"
      ],
      "execution_count": null,
      "outputs": [
        {
          "output_type": "execute_result",
          "data": {
            "text/plain": [
              "['Carrot🥕', 'Eggplant 🍆', 'Potato 🥔', 'Corn 🌽']"
            ]
          },
          "metadata": {
            "tags": []
          },
          "execution_count": 23
        }
      ]
    },
    {
      "cell_type": "code",
      "metadata": {
        "id": "CFVUaXByLER_"
      },
      "source": [
        "# Add a new element to the end of the list\n",
        "vegetables.append(\"Mango 🥭\")"
      ],
      "execution_count": null,
      "outputs": []
    },
    {
      "cell_type": "code",
      "metadata": {
        "id": "NY4XsiyyLDMi",
        "colab": {
          "base_uri": "https://localhost:8080/"
        },
        "outputId": "a03adca8-790d-49be-ba0c-29083a8b887a"
      },
      "source": [
        "# Thank god!! We added mango to the list  \n",
        "vegetables"
      ],
      "execution_count": null,
      "outputs": [
        {
          "output_type": "execute_result",
          "data": {
            "text/plain": [
              "['Carrot🥕', 'Eggplant 🍆', 'Potato 🥔', 'Corn 🌽', 'Mango 🥭']"
            ]
          },
          "metadata": {
            "tags": []
          },
          "execution_count": 26
        }
      ]
    },
    {
      "cell_type": "markdown",
      "metadata": {
        "id": "X4nE42WwLEqm"
      },
      "source": [
        "We want to do something more delicate. You find out that one kg potato is not enough. You need to add one more, and you don't want to add at it to the last. You wan to add another potato element after the potato element that is already present in the list.\n",
        "\n",
        "Before we add the new element in our desired position, we need to find out the list of elements in the list, you need to decide the postion where to insert the list."
      ]
    },
    {
      "cell_type": "code",
      "metadata": {
        "id": "9H6yEtCTl5h4",
        "colab": {
          "base_uri": "https://localhost:8080/",
          "height": 35
        },
        "outputId": "823e691f-4c02-46d4-c36e-8af4698bc00f"
      },
      "source": [
        "# We want to insert at the index of old potato\n",
        "# the index of old potato is 2, you can verify\n",
        "vegetables[2]"
      ],
      "execution_count": null,
      "outputs": [
        {
          "output_type": "execute_result",
          "data": {
            "application/vnd.google.colaboratory.intrinsic+json": {
              "type": "string"
            },
            "text/plain": [
              "'Potato 🥔'"
            ]
          },
          "metadata": {
            "tags": []
          },
          "execution_count": 27
        }
      ]
    },
    {
      "cell_type": "code",
      "metadata": {
        "id": "TSy8FwS7mAhG"
      },
      "source": [
        "vegetables.insert(2, \"Potato 🥔\")\n",
        "vegetables"
      ],
      "execution_count": null,
      "outputs": []
    },
    {
      "cell_type": "markdown",
      "metadata": {
        "id": "a5bIxGy8LDhy"
      },
      "source": [
        "Now we after we have bought 2 potatos we want to remove them from the list.\n",
        "\n",
        "### Remove elements\n",
        "- remove(element)\n",
        "- pop(index)"
      ]
    },
    {
      "cell_type": "code",
      "metadata": {
        "id": "S3qO7qXnLgoQ"
      },
      "source": [
        "# Does it delete the element of the list\n",
        "# Or returns a new list with potato removed?\n",
        "vegetables.remove(\"Potato 🥔\")"
      ],
      "execution_count": null,
      "outputs": []
    },
    {
      "cell_type": "code",
      "metadata": {
        "id": "hw7l44KCLgg8",
        "colab": {
          "base_uri": "https://localhost:8080/"
        },
        "outputId": "6c98df25-280f-4afb-cd6c-67669f9afb1a"
      },
      "source": [
        "vegetables"
      ],
      "execution_count": null,
      "outputs": [
        {
          "output_type": "execute_result",
          "data": {
            "text/plain": [
              "['Carrot🥕', 'Eggplant 🍆', 'Potato 🥔', 'Corn 🌽', 'Mango 🥭']"
            ]
          },
          "metadata": {
            "tags": []
          },
          "execution_count": 31
        }
      ]
    },
    {
      "cell_type": "markdown",
      "metadata": {
        "id": "HR-Pic4aedja"
      },
      "source": [
        "Why was the 2nd potato not removed??"
      ]
    },
    {
      "cell_type": "code",
      "metadata": {
        "id": "-EivkPvyLf1L",
        "colab": {
          "base_uri": "https://localhost:8080/"
        },
        "outputId": "3ccfb039-1353-487a-d82f-cc5782b655fd"
      },
      "source": [
        "# We don't want to take any risk anymore\n",
        "# We wan't more fine grained control\n",
        "# we will delete by index 😤\n",
        "\n",
        "vegetables.pop(5)"
      ],
      "execution_count": null,
      "outputs": [
        {
          "output_type": "execute_result",
          "data": {
            "text/plain": [
              "2.33"
            ]
          },
          "metadata": {
            "tags": []
          },
          "execution_count": 42
        }
      ]
    },
    {
      "cell_type": "markdown",
      "metadata": {
        "id": "90uKi9Z9Lwpb"
      },
      "source": [
        "### Indexing and Slicing"
      ]
    },
    {
      "cell_type": "code",
      "metadata": {
        "id": "q27eK45fLypt",
        "colab": {
          "base_uri": "https://localhost:8080/"
        },
        "outputId": "ba7c93f8-4e98-411f-db94-76ed84189bbb"
      },
      "source": [
        "# Now we wan to get the first 3 elements of the list\n",
        "vegetables[:3]"
      ],
      "execution_count": null,
      "outputs": [
        {
          "output_type": "execute_result",
          "data": {
            "text/plain": [
              "['Carrot🥕', 'Eggplant 🍆', 'Potato 🥔']"
            ]
          },
          "metadata": {
            "tags": []
          },
          "execution_count": 32
        }
      ]
    },
    {
      "cell_type": "code",
      "metadata": {
        "id": "m8-Ev5XfLylQ",
        "colab": {
          "base_uri": "https://localhost:8080/"
        },
        "outputId": "e97e40cf-9d66-4fb5-9b44-5525a88ad69e"
      },
      "source": [
        "# Everything except the first 3 elements of the list\n",
        "vegetables[2:]"
      ],
      "execution_count": null,
      "outputs": [
        {
          "output_type": "execute_result",
          "data": {
            "text/plain": [
              "['Potato 🥔', 'Corn 🌽', 'Mango 🥭']"
            ]
          },
          "metadata": {
            "tags": []
          },
          "execution_count": 33
        }
      ]
    },
    {
      "cell_type": "code",
      "metadata": {
        "id": "jzU_j6Z3LyYD",
        "colab": {
          "base_uri": "https://localhost:8080/",
          "height": 35
        },
        "outputId": "4afa5c47-6607-4b33-f026-979b1051b7cf"
      },
      "source": [
        "# negative indexing works on list too!!\n",
        "# Access the last element of the list\n",
        "vegetables[-1]"
      ],
      "execution_count": null,
      "outputs": [
        {
          "output_type": "execute_result",
          "data": {
            "application/vnd.google.colaboratory.intrinsic+json": {
              "type": "string"
            },
            "text/plain": [
              "'Mango 🥭'"
            ]
          },
          "metadata": {
            "tags": []
          },
          "execution_count": 34
        }
      ]
    },
    {
      "cell_type": "markdown",
      "metadata": {
        "id": "wO8qxBjsLin2"
      },
      "source": [
        "### Mutability and Immutability"
      ]
    },
    {
      "cell_type": "code",
      "metadata": {
        "id": "LGIqNw_PLpoZ"
      },
      "source": [
        "# Tuples\n",
        "# Tuples are like lists but uneditable\n",
        "# List is like writing with a pencil on paper and tuple is like writing pen on paper\n",
        "# You can edit list after you have created it, with tuple you cannot\n",
        "\n",
        "a = (1, 2, \"Three\")"
      ],
      "execution_count": null,
      "outputs": []
    },
    {
      "cell_type": "code",
      "metadata": {
        "id": "JfLis14QLpdc",
        "colab": {
          "base_uri": "https://localhost:8080/"
        },
        "outputId": "64829451-1343-4242-9af2-9998a4354689"
      },
      "source": [
        "# Let's see what is the second element of a \n",
        "a[1]"
      ],
      "execution_count": null,
      "outputs": [
        {
          "output_type": "execute_result",
          "data": {
            "text/plain": [
              "2"
            ]
          },
          "metadata": {
            "tags": []
          },
          "execution_count": 36
        }
      ]
    },
    {
      "cell_type": "code",
      "metadata": {
        "colab": {
          "base_uri": "https://localhost:8080/",
          "height": 197
        },
        "id": "fPbSf7JhWgXz",
        "outputId": "2b7485af-c406-43a8-9ef7-b58af9ee186d"
      },
      "source": [
        "# Let us now try to change it\n",
        "\n",
        "a[1] = 3"
      ],
      "execution_count": null,
      "outputs": [
        {
          "output_type": "error",
          "ename": "TypeError",
          "evalue": "ignored",
          "traceback": [
            "\u001b[0;31m---------------------------------------------------------------------------\u001b[0m",
            "\u001b[0;31mTypeError\u001b[0m                                 Traceback (most recent call last)",
            "\u001b[0;32m<ipython-input-37-ea06c1deac02>\u001b[0m in \u001b[0;36m<module>\u001b[0;34m()\u001b[0m\n\u001b[1;32m      1\u001b[0m \u001b[0;31m# Let us now try to change it\u001b[0m\u001b[0;34m\u001b[0m\u001b[0;34m\u001b[0m\u001b[0;34m\u001b[0m\u001b[0m\n\u001b[1;32m      2\u001b[0m \u001b[0;34m\u001b[0m\u001b[0m\n\u001b[0;32m----> 3\u001b[0;31m \u001b[0ma\u001b[0m\u001b[0;34m[\u001b[0m\u001b[0;36m1\u001b[0m\u001b[0;34m]\u001b[0m \u001b[0;34m=\u001b[0m \u001b[0;36m3\u001b[0m\u001b[0;34m\u001b[0m\u001b[0;34m\u001b[0m\u001b[0m\n\u001b[0m",
            "\u001b[0;31mTypeError\u001b[0m: 'tuple' object does not support item assignment"
          ]
        }
      ]
    },
    {
      "cell_type": "markdown",
      "metadata": {
        "id": "z9hefZ__LqIl"
      },
      "source": [
        "### The `in` keyword \n",
        "\n",
        "Suppose you want to print all the elements of the list, you can use the `in` keyword. Here are two approaches on how to do it. "
      ]
    },
    {
      "cell_type": "code",
      "metadata": {
        "id": "dFEZJO9vMG94",
        "colab": {
          "base_uri": "https://localhost:8080/"
        },
        "outputId": "51822c0a-2ead-470b-e608-d3ab79a7a0d2"
      },
      "source": [
        "vegetables"
      ],
      "execution_count": null,
      "outputs": [
        {
          "output_type": "execute_result",
          "data": {
            "text/plain": [
              "['Carrot🥕', 'Eggplant 🍆', 'Potato 🥔', 'Corn 🌽', 'Mango 🥭']"
            ]
          },
          "metadata": {
            "tags": []
          },
          "execution_count": 38
        }
      ]
    },
    {
      "cell_type": "code",
      "metadata": {
        "id": "y1fNcXMwMG1B",
        "colab": {
          "base_uri": "https://localhost:8080/"
        },
        "outputId": "caea5f18-f8a2-4a67-d0d5-d67ac5bd3def"
      },
      "source": [
        "# Approach 1\n",
        "# Messy and more C/C++\n",
        "\n",
        "for i in range(len(vegetables)):\n",
        "  print(vegetables[i])"
      ],
      "execution_count": null,
      "outputs": [
        {
          "output_type": "stream",
          "text": [
            "Carrot🥕\n",
            "Eggplant 🍆\n",
            "Potato 🥔\n",
            "Corn 🌽\n",
            "Mango 🥭\n"
          ],
          "name": "stdout"
        }
      ]
    },
    {
      "cell_type": "code",
      "metadata": {
        "id": "4LG123uLMGtz",
        "colab": {
          "base_uri": "https://localhost:8080/"
        },
        "outputId": "16c9805b-71b3-457e-e933-a60b1996447f"
      },
      "source": [
        "# Approach 2\n",
        "# Cleaner and more pythonic\n",
        "\n",
        "for i in vegetables:\n",
        "  print(i)"
      ],
      "execution_count": null,
      "outputs": [
        {
          "output_type": "stream",
          "text": [
            "Carrot🥕\n",
            "Eggplant 🍆\n",
            "Potato 🥔\n",
            "Corn 🌽\n",
            "Mango 🥭\n"
          ],
          "name": "stdout"
        }
      ]
    },
    {
      "cell_type": "markdown",
      "metadata": {
        "id": "E7PC-_9uSMVb"
      },
      "source": [
        "## Law of Large Numbers using Python\n"
      ]
    },
    {
      "cell_type": "markdown",
      "metadata": {
        "id": "Au-j0p-NaI0d"
      },
      "source": [
        "**Python Packages**\n",
        "\n",
        "- You are not expected to code everything from scratch. Every langauge provides you packages/libraires that implements certain artifacts and saves you from coding everything from scratch. One of the most important things that makes python so popular is the amount of packages it has to offer.\n",
        "- Python comes some default packages, these packages are called standard packages. Some of the standard packages are math, random, zip etc. \n",
        "\n",
        "\n",
        "**How to use a pakcage in python ?**\n",
        "\n",
        "To use the functions and things that a package(more correctly module) has to offer we need to `import` the module.\n"
      ]
    },
    {
      "cell_type": "code",
      "metadata": {
        "id": "o5-IJzFQRH3q"
      },
      "source": [
        "# Import the random module\n",
        "import random"
      ],
      "execution_count": null,
      "outputs": []
    },
    {
      "cell_type": "markdown",
      "metadata": {
        "id": "pdPrwo782f8j"
      },
      "source": [
        "Let us have a look at the functions and Modules that come with Random"
      ]
    },
    {
      "cell_type": "code",
      "metadata": {
        "colab": {
          "base_uri": "https://localhost:8080/"
        },
        "id": "HNdeOGfltijg",
        "outputId": "ef583dcb-def9-48d7-942e-1d67bdb23edc"
      },
      "source": [
        "dir(random)"
      ],
      "execution_count": null,
      "outputs": [
        {
          "output_type": "execute_result",
          "data": {
            "text/plain": [
              "['weibullvariate',\n",
              " 'vonmisesvariate',\n",
              " 'uniform',\n",
              " 'triangular',\n",
              " 'shuffle',\n",
              " 'setstate',\n",
              " 'seed',\n",
              " 'sample',\n",
              " 'randrange',\n",
              " 'random',\n",
              " 'randint',\n",
              " 'paretovariate',\n",
              " 'normalvariate',\n",
              " 'lognormvariate',\n",
              " 'getstate',\n",
              " 'getrandbits',\n",
              " 'gauss',\n",
              " 'gammavariate',\n",
              " 'expovariate',\n",
              " 'choices',\n",
              " 'choice',\n",
              " 'betavariate',\n",
              " '_warn',\n",
              " '_urandom',\n",
              " '_test_generator',\n",
              " '_test',\n",
              " '_sqrt',\n",
              " '_sin',\n",
              " '_sha512',\n",
              " '_random',\n",
              " '_pi',\n",
              " '_os',\n",
              " '_log',\n",
              " '_itertools',\n",
              " '_inst',\n",
              " '_exp',\n",
              " '_e',\n",
              " '_cos',\n",
              " '_ceil',\n",
              " '_bisect',\n",
              " '_acos',\n",
              " '__spec__',\n",
              " '__package__',\n",
              " '__name__',\n",
              " '__loader__',\n",
              " '__file__',\n",
              " '__doc__',\n",
              " '__cached__',\n",
              " '__builtins__',\n",
              " '__all__',\n",
              " '_Set',\n",
              " '_Sequence',\n",
              " '_MethodType',\n",
              " '_BuiltinMethodType',\n",
              " 'TWOPI',\n",
              " 'SystemRandom',\n",
              " 'SG_MAGICCONST',\n",
              " 'Random',\n",
              " 'RECIP_BPF',\n",
              " 'NV_MAGICCONST',\n",
              " 'LOG4',\n",
              " 'BPF']"
            ]
          },
          "metadata": {
            "tags": []
          },
          "execution_count": 10
        }
      ]
    },
    {
      "cell_type": "markdown",
      "metadata": {
        "id": "pwYf2cvJ7FaY"
      },
      "source": [
        "The list is too long. Can you just print the last 5 elements?"
      ]
    },
    {
      "cell_type": "markdown",
      "metadata": {
        "id": "P1blwFxE7OjT"
      },
      "source": [
        "**Ask for Help?**\n",
        "\n",
        "There are a lot of python packages providing lots of functionalities.You are not expected to know every functionality by heart. If you can, please don't.\n",
        "<br>\n",
        "Website to refer to:\n",
        "- [Python Official Documentation](https://docs.python.org/3/)\n",
        "- [StackOverFlow](https://stackoverflow.com/questions/tagged/python-3.x)\n",
        "\n",
        "Please make sure you trust the website before learning from it."
      ]
    },
    {
      "cell_type": "markdown",
      "metadata": {
        "id": "S-ZcZFAK7-TU"
      },
      "source": [
        "**Unifrom Distribution**\n",
        "\n",
        "A uniform distribution, sometimes also known as a rectangular distribution, is a distribution that has constant probability. [Wolfram Alpha]\n",
        "\n",
        "<img src=\"https://upload.wikimedia.org/wikipedia/commons/thumb/9/96/Uniform_Distribution_PDF_SVG.svg/1200px-Uniform_Distribution_PDF_SVG.svg.png\" width=500>"
      ]
    },
    {
      "cell_type": "code",
      "metadata": {
        "id": "kzudPM49Rpwc",
        "colab": {
          "base_uri": "https://localhost:8080/"
        },
        "outputId": "2b1380fc-c210-405c-c66c-76840252b04b"
      },
      "source": [
        "random.uniform(4, 6)"
      ],
      "execution_count": null,
      "outputs": [
        {
          "output_type": "execute_result",
          "data": {
            "text/plain": [
              "5.439973067857383"
            ]
          },
          "metadata": {
            "tags": []
          },
          "execution_count": 23
        }
      ]
    },
    {
      "cell_type": "code",
      "metadata": {
        "colab": {
          "base_uri": "https://localhost:8080/"
        },
        "id": "ywWDB5KQwAUt",
        "outputId": "f4451992-3cd3-4be5-e930-c6436c468cb0"
      },
      "source": [
        "a = random.uniform(0, 1)\n",
        "\n",
        "if a>0.5:\n",
        "    print(\"Head\")\n",
        "else:\n",
        "    print(\"Tail\")"
      ],
      "execution_count": null,
      "outputs": [
        {
          "output_type": "stream",
          "text": [
            "Tail\n"
          ],
          "name": "stdout"
        }
      ]
    },
    {
      "cell_type": "code",
      "metadata": {
        "id": "NOY2_veWRrVq"
      },
      "source": [
        "def unbiased_coin_toss():\n",
        "    # Generate a random number from 0 to 1\n",
        "    x = random.uniform(0, 1)\n",
        "    # Probability that the number falls between 0 and 0.5 is 1/2\n",
        "    \n",
        "    if x > 0.5:\n",
        "        return True\n",
        "    else:\n",
        "        return False"
      ],
      "execution_count": null,
      "outputs": []
    },
    {
      "cell_type": "code",
      "metadata": {
        "id": "x_l5l7qQR55n",
        "colab": {
          "base_uri": "https://localhost:8080/"
        },
        "outputId": "dcdeeacc-a6bf-4cf7-b8f6-87097312a7ac"
      },
      "source": [
        "unbiased_coin_toss()"
      ],
      "execution_count": null,
      "outputs": [
        {
          "output_type": "execute_result",
          "data": {
            "text/plain": [
              "True"
            ]
          },
          "metadata": {
            "tags": []
          },
          "execution_count": 40
        }
      ]
    },
    {
      "cell_type": "markdown",
      "metadata": {
        "id": "hQ-bUGNX_QqM"
      },
      "source": [
        "Implement the coin toss of a biased coin given the probability of heads. "
      ]
    },
    {
      "cell_type": "code",
      "metadata": {
        "id": "PqtiAaldymI5"
      },
      "source": [
        "def biased_coin_toss(h):\n",
        "    # Generate a random number from 0 to 1\n",
        "    x = random.uniform(0, 1)\n",
        "    \n",
        "    \n",
        "    if x > (1-h):\n",
        "        return True\n",
        "    else:\n",
        "        return False"
      ],
      "execution_count": null,
      "outputs": []
    },
    {
      "cell_type": "code",
      "metadata": {
        "id": "HBVVQqYS_goQ",
        "colab": {
          "base_uri": "https://localhost:8080/"
        },
        "outputId": "9aaa067b-f740-4e2c-f8f5-0de1c287b4a1"
      },
      "source": [
        "biased_coin_toss(0.9)"
      ],
      "execution_count": null,
      "outputs": [
        {
          "output_type": "execute_result",
          "data": {
            "text/plain": [
              "True"
            ]
          },
          "metadata": {
            "tags": []
          },
          "execution_count": 46
        }
      ]
    },
    {
      "cell_type": "markdown",
      "metadata": {
        "id": "epCisgwd-3WY"
      },
      "source": [
        "Now we have a function that emulates the tossing of a coin. We are going to verify that the probability of the coin matches our original probability."
      ]
    },
    {
      "cell_type": "code",
      "metadata": {
        "id": "ERk923qHBCn0",
        "colab": {
          "base_uri": "https://localhost:8080/"
        },
        "outputId": "8862460a-5512-4623-d028-157ff9eb3560"
      },
      "source": [
        "# Before we go on to do a simluation let us try something\n",
        "# What is the result of the commented out code?\n",
        "\n",
        "sum([1, 2, 3, 4])\n",
        "# sum([True, False, True, True, False, True])"
      ],
      "execution_count": null,
      "outputs": [
        {
          "output_type": "execute_result",
          "data": {
            "text/plain": [
              "4"
            ]
          },
          "metadata": {
            "tags": []
          },
          "execution_count": 48
        }
      ]
    },
    {
      "cell_type": "code",
      "metadata": {
        "id": "fz0jQX9ZWyNF",
        "colab": {
          "base_uri": "https://localhost:8080/"
        },
        "outputId": "55c021e5-2c14-4deb-b752-b6d2c643d283"
      },
      "source": [
        "N=10\n",
        "results = []\n",
        "\n",
        "# Toss the coin 10 times and store that in a list\n",
        "for i in range(N):\n",
        "    result = unbiased_coin_toss()\n",
        "    results.append(result)\n",
        "\n",
        "n_heads = sum(results)\n",
        "p_heads = n_heads/N\n",
        "\n",
        "print(\"Probability is {:.1f}\".format(p_heads))"
      ],
      "execution_count": null,
      "outputs": [
        {
          "output_type": "stream",
          "text": [
            "Probability is 0.7\n"
          ],
          "name": "stdout"
        }
      ]
    },
    {
      "cell_type": "code",
      "metadata": {
        "id": "M9TVl4fdtpMq"
      },
      "source": [
        "# Write a function for the code above"
      ],
      "execution_count": null,
      "outputs": []
    },
    {
      "cell_type": "markdown",
      "metadata": {
        "id": "P7Byjv9DAxd5"
      },
      "source": [
        "Are the results compareable to what you expected??"
      ]
    },
    {
      "cell_type": "markdown",
      "metadata": {
        "id": "vmTxYWxBA6KT"
      },
      "source": [
        "### The Law of large numbers"
      ]
    },
    {
      "cell_type": "markdown",
      "metadata": {
        "id": "1FInwp5jstBD"
      },
      "source": [
        "\n",
        "**Law of large numbers is**<br>\n",
        " It states that if you repeat an experiment independently a large number of times and average the result, what you obtain should be close to the expected value.\n",
        "\n",
        "- For a small number of cases the probability of an event may not refelect the original probability of events.\n",
        "- Smaller the population, higher the bias\n",
        "- What is Mote Carlo?"
      ]
    },
    {
      "cell_type": "code",
      "metadata": {
        "id": "4ORuAas6B1N4",
        "colab": {
          "base_uri": "https://localhost:8080/"
        },
        "outputId": "87d29303-f61f-4c73-8b74-bf2513bff5f4"
      },
      "source": [
        "# Simulate for 100 results\n",
        "N = 500\n",
        "results = []\n",
        "\n",
        "for i in range(N):\n",
        "    result = biased_coin_toss(0.3)\n",
        "    results.append(result)\n",
        "\n",
        "n_heads = sum(results)\n",
        "p_heads = n_heads/N\n",
        "\n",
        "print(\"Probability is {:.3f}\".format(p_heads))"
      ],
      "execution_count": null,
      "outputs": [
        {
          "output_type": "stream",
          "text": [
            "Probability is 0.270\n"
          ],
          "name": "stdout"
        }
      ]
    },
    {
      "cell_type": "markdown",
      "metadata": {
        "id": "taaR2LPNvNyC"
      },
      "source": [
        "- Do you notice any improvement in results?\n",
        "\n",
        "- Repeat the same expermient for biased coin and check if the results match.\n",
        "\n",
        "- For which value of N the result if correct to 3 decimal places?"
      ]
    },
    {
      "cell_type": "markdown",
      "metadata": {
        "id": "z13DdkRpvTDL"
      },
      "source": [
        "\n",
        "![](https://user-images.githubusercontent.com/7974003/44995702-37c1b200-af9c-11e8-8b26-c88a528956af.gif)\n",
        "\n",
        "\n",
        "In this graph the blue curve inidicates the probability of heads after each toss. The graph is taken from a [Turing.jl tutorial](https://turing.ml/dev/tutorials/0-introduction/). \n",
        "\n",
        "Can you plot the same using Python?"
      ]
    }
  ]
}